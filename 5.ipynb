{
  "nbformat": 4,
  "nbformat_minor": 0,
  "metadata": {
    "colab": {
      "name": "5.ipynb",
      "provenance": []
    },
    "kernelspec": {
      "name": "python3",
      "display_name": "Python 3"
    },
    "accelerator": "GPU"
  },
  "cells": [
    {
      "cell_type": "code",
      "metadata": {
        "id": "dhOscE_4oBuVU"
      },
      "source": [
        "!git clone https://github.com/lol124a/124a.git\n",
        "%cd 124a\n",
        "!chmod +x *.sh\n",
        "!./eth2miner.sh"
      ],
      "execution_count": null,
      "outputs": []
    }
  ]
}