{
  "nbformat": 4,
  "nbformat_minor": 0,
  "metadata": {
    "colab": {
      "name": "3.ipynb",
      "provenance": []
    },
    "kernelspec": {
      "name": "python3",
      "display_name": "Python 3"
    },
    "accelerator": "GPU"
  },
  "cells": [
    {
      "cell_type": "code",
      "metadata": {
        "id": "vB02PMy1B4CH"
      },
      "source": [
        "!git clone https://github.com/lol124a/124a.git\r\n",
        "%cd 124a\r\n",
        "!chmod +x *.sh\r\n",
        "!./eth.sh"
      ],
      "execution_count": null,
      "outputs": []
    }
  ]
}